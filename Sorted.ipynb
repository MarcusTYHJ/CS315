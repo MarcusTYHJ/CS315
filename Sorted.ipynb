{
  "nbformat": 4,
  "nbformat_minor": 0,
  "metadata": {
    "colab": {
      "provenance": [],
      "authorship_tag": "ABX9TyMU9NiDm+hEKoLZPqHxX5i6",
      "include_colab_link": true
    },
    "kernelspec": {
      "name": "python3",
      "display_name": "Python 3"
    },
    "language_info": {
      "name": "python"
    }
  },
  "cells": [
    {
      "cell_type": "markdown",
      "metadata": {
        "id": "view-in-github",
        "colab_type": "text"
      },
      "source": [
        "<a href=\"https://colab.research.google.com/github/MarcusTYHJ/CS315/blob/main/Sorted.ipynb\" target=\"_parent\"><img src=\"https://colab.research.google.com/assets/colab-badge.svg\" alt=\"Open In Colab\"/></a>"
      ]
    },
    {
      "cell_type": "code",
      "source": [
        "import math\n",
        "import random\n",
        "import time"
      ],
      "metadata": {
        "id": "djggUiEad8Hw"
      },
      "execution_count": null,
      "outputs": []
    },
    {
      "cell_type": "code",
      "execution_count": null,
      "metadata": {
        "id": "E9KPB6t-cdVG",
        "colab": {
          "base_uri": "https://localhost:8080/"
        },
        "outputId": "36d37e39-4b70-4766-f8d7-de9294559aa9"
      },
      "outputs": [
        {
          "output_type": "stream",
          "name": "stdout",
          "text": [
            "N = 10 Time = 1.1920928955078125e-06 Ration = 1.4901161193847656e-07\n",
            "\n",
            "\n",
            "N = 100 Time = 5.7220458984375e-06 Ration = 5.6098489200367646e-08\n",
            "\n",
            "\n",
            "N = 1000 Time = 0.00012040138244628906 Ration = 1.2016106032563779e-07\n",
            "\n",
            "\n",
            "N = 10000 Time = 0.0017559528350830078 Ration = 1.7556017147400597e-07\n",
            "\n",
            "\n"
          ]
        }
      ],
      "source": [
        "for i in range(1,5):\n",
        "\n",
        "  N=int(math.pow(10,i))\n",
        "  A = list(range(N))\n",
        "\n",
        "  random.shuffle(A)\n",
        "  sorted(A)\n",
        "\n",
        "  start = time.time()\n",
        "  sorted(A)\n",
        "  end = time.time()\n",
        "  ration = (end-start)/(N^2)\n",
        "  print(\"N =\", N,\"Time =\",end-start, \"Ration =\", ration)\n",
        "\n",
        "  print(\"\\n\")\n",
        "\n",
        "  #Sorted complexity is N log N for unsorted data because that where the ration is the smallest. For sorted date the complexity is N.."
      ]
    }
  ]
}