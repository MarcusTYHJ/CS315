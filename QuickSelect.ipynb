{
  "nbformat": 4,
  "nbformat_minor": 0,
  "metadata": {
    "colab": {
      "provenance": [],
      "authorship_tag": "ABX9TyNNBq6aYdOlgr0N2eUsKSPK",
      "include_colab_link": true
    },
    "kernelspec": {
      "name": "python3",
      "display_name": "Python 3"
    },
    "language_info": {
      "name": "python"
    }
  },
  "cells": [
    {
      "cell_type": "markdown",
      "metadata": {
        "id": "view-in-github",
        "colab_type": "text"
      },
      "source": [
        "<a href=\"https://colab.research.google.com/github/MarcusTYHJ/CS315/blob/main/QuickSelect.ipynb\" target=\"_parent\"><img src=\"https://colab.research.google.com/assets/colab-badge.svg\" alt=\"Open In Colab\"/></a>"
      ]
    },
    {
      "cell_type": "code",
      "execution_count": 1,
      "metadata": {
        "id": "CQTrX1KHgfT6"
      },
      "outputs": [],
      "source": [
        "#Quickselect, selects the largest or smallest number in list without sorting it\n",
        "#10/30/2025\n",
        "#By Marcus St Pierre\n",
        "\n",
        "import random\n",
        "import time\n",
        "import math\n",
        "\n",
        "def quickselect(A,i):\n",
        "  if len(A) == 1:\n",
        "    return A[0]\n",
        "  pivot = random.choice(A)\n",
        "  lows = [a for a in A if a < pivot]\n",
        "  highs = [a for a in A if a > pivot]\n",
        "  pivots = [a for a in A if a == pivot]\n",
        "  if i < len(lows):\n",
        "    return quickselect(lows,i)\n",
        "  elif i <= len(lows) + len(pivots):\n",
        "    return pivots[0]\n",
        "  else:\n",
        "    return quickselect(highs,i-len(lows)-len(pivots))\n"
      ]
    },
    {
      "cell_type": "code",
      "source": [
        "#loop to fill list with random values\n",
        "A = []\n",
        "for x in range(1000):\n",
        "  A.append(random.randint(1,100))\n",
        "\n",
        "#Size of list\n",
        "i = len(A)\n",
        "\n",
        "print('\\n')\n",
        "#Unsorted data\n",
        "start = time.time()\n",
        "print(f\"Unsorted data {quickselect(A,i)}\")\n",
        "end = time.time()\n",
        "ration = (end-start)/(i^2)\n",
        "print(\"N =\", i,\"Time =\",end-start, \"Ration =\", ration)\n",
        "\n",
        "print(\"\\n\")\n",
        "\n",
        "#Sorted data\n",
        "A.sort()\n",
        "start = time.time()\n",
        "print(f\"Sorted data {quickselect(A,i)}\")\n",
        "end = time.time()\n",
        "ration = (end-start)/(i^2)\n",
        "print(\"N =\", i,\"Time =\",end-start, \"Ration =\", ration)\n",
        "\n",
        "\n",
        "\n"
      ],
      "metadata": {
        "colab": {
          "base_uri": "https://localhost:8080/"
        },
        "id": "RVQzVBSig-CG",
        "outputId": "e7c7c432-eea2-41a6-9617-8d4f2ac27a44"
      },
      "execution_count": 21,
      "outputs": [
        {
          "output_type": "stream",
          "name": "stdout",
          "text": [
            "\n",
            "\n",
            "Unsorted data 100\n",
            "N = 1000 Time = 0.00026726722717285156 Ration = 2.6673375965354445e-07\n",
            "\n",
            "\n",
            "Sorted data 100\n",
            "N = 1000 Time = 0.00024819374084472656 Ration = 2.4769834415641374e-07\n"
          ]
        }
      ]
    }
  ]
}